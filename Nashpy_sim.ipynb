{
  "cells": [
    {
      "attachments": {},
      "cell_type": "markdown",
      "metadata": {},
      "source": [
        "## note that part of the report of this file is in the report.pdf"
      ]
    },
    {
      "attachments": {},
      "cell_type": "markdown",
      "metadata": {
        "id": "CzA5FLOyQz-8"
      },
      "source": [
        "ابتدا باید کتاب خانه \n",
        "\n",
        "nashpy  \n",
        "\n",
        "را نصب کنیم"
      ]
    },
    {
      "cell_type": "code",
      "execution_count": 4,
      "metadata": {
        "colab": {
          "base_uri": "https://localhost:8080/"
        },
        "id": "Z3w1pJyDQqBk",
        "outputId": "dd483f02-5a30-443f-f7b9-e63f4d50751f"
      },
      "outputs": [],
      "source": [
        "# !pip install nashpy"
      ]
    },
    {
      "attachments": {},
      "cell_type": "markdown",
      "metadata": {
        "id": "G4R68hRjO1Ac"
      },
      "source": [
        "با  چند دستور ابتدایی این کتابخانه شروع میکنیم و آنها را توضیح میدهیم ..."
      ]
    },
    {
      "attachments": {},
      "cell_type": "markdown",
      "metadata": {
        "id": "SWklANnoPIOy"
      },
      "source": [
        "در این قسمت هر دو جدول بازیکن سطر وستون با یکدیگر برابر هستند"
      ]
    },
    {
      "cell_type": "code",
      "execution_count": 2,
      "metadata": {
        "colab": {
          "base_uri": "https://localhost:8080/"
        },
        "id": "7WWboFwmO-2I",
        "outputId": "9a71c119-1ee5-420d-fc58-4bfa5e23fcd1"
      },
      "outputs": [
        {
          "name": "stdout",
          "output_type": "stream",
          "text": [
            "Zero sum game with payoff matrices:\n",
            "\n",
            "Row player:\n",
            "[[ 0 -1  1]\n",
            " [ 1  0 -1]\n",
            " [-1  1  0]]\n",
            "\n",
            "Column player:\n",
            "[[ 0  1 -1]\n",
            " [-1  0  1]\n",
            " [ 1 -1  0]]\n"
          ]
        }
      ],
      "source": [
        "import nashpy as nash\n",
        "import numpy as np\n",
        "A = np.array([[0, -1, 1], [1, 0, -1], [-1, 1, 0]])\n",
        "rps = nash.Game(A)\n",
        "print(rps)"
      ]
    },
    {
      "attachments": {},
      "cell_type": "markdown",
      "metadata": {
        "id": "6Rhi2Z0zPYPi"
      },
      "source": [
        "اگر ماتریس های دو بازیکن با یکدیگر برابر نباشند به صورت زیر میتوانیم انجام دهیم"
      ]
    },
    {
      "cell_type": "code",
      "execution_count": 7,
      "metadata": {
        "colab": {
          "base_uri": "https://localhost:8080/"
        },
        "id": "KikZjo2ZPeZq",
        "outputId": "38bb0f95-f3ff-4247-f9b3-0a19279a3324"
      },
      "outputs": [
        {
          "name": "stdout",
          "output_type": "stream",
          "text": [
            "Bi matrix game with payoff matrices:\n",
            "\n",
            "Row player:\n",
            "[[ 0 -1  1]\n",
            " [ 1  0 -1]\n",
            " [-1  1  0]]\n",
            "\n",
            "Column player:\n",
            "[[ 1  0  1]\n",
            " [ 1  1 -1]\n",
            " [-1  1 -1]]\n"
          ]
        }
      ],
      "source": [
        "B =np.array([[1, 0, 1], [1, 1, -1], [-1, 1, -1]])\n",
        "rps = nash.Game(A, B)\n",
        "print(rps)"
      ]
    },
    {
      "cell_type": "code",
      "execution_count": null,
      "metadata": {},
      "outputs": [],
      "source": []
    },
    {
      "attachments": {},
      "cell_type": "markdown",
      "metadata": {
        "id": "dDI-hCFHQB3U"
      },
      "source": [
        "برای به دست آوردن یوتیلیتی یک استراتژی از جدول به صورت زیر انجام میدهیم"
      ]
    },
    {
      "cell_type": "code",
      "execution_count": 11,
      "metadata": {
        "colab": {
          "base_uri": "https://localhost:8080/"
        },
        "id": "LADeejHqQBYr",
        "outputId": "72dadcb9-06f6-4421-c422-be4b43651238"
      },
      "outputs": [
        {
          "name": "stdout",
          "output_type": "stream",
          "text": [
            "[1 1]\n"
          ]
        }
      ],
      "source": [
        "sigma_r = [0, 0, 1]\n",
        "sigma_c = [0, 1, 0]\n",
        "print(rps[sigma_r, sigma_c])"
      ]
    },
    {
      "attachments": {},
      "cell_type": "markdown",
      "metadata": {
        "id": "uGUZ4kdri222"
      },
      "source": [
        "حال میخواهیم با استفاده از این کتابخانه نقطه(نقاط) تعادل نش بازی سنگ کاغذ قیجی را که در قسمت اول دیدید را پیدا کنیم.\n",
        "یک بار با استفاده از\n",
        "\n",
        "game.support_enumeration \n",
        "\n",
        "و بارهای دیگر با استفاده از \n",
        "\n",
        "game.vertex_enumeration , Lemke Howson\n",
        "\n",
        "کد را پیاده سازی کنید. \n",
        "و در پایان با جستجو در اینترنت بگویید که تفاوت عملکرد این سه در جیست و خروجی هر سه را با هم مقایسه کنید.\n",
        "آیا خروجی یا \n",
        "\n",
        "pure strategy \n",
        "\n",
        "\n",
        "است یا\n",
        "\n",
        " mixed strategy?\n"
      ]
    },
    {
      "cell_type": "code",
      "execution_count": 12,
      "metadata": {
        "colab": {
          "base_uri": "https://localhost:8080/"
        },
        "id": "1k1GB9mWi76a",
        "outputId": "c95a8f13-0dac-46d9-b82b-db80ade3037f"
      },
      "outputs": [
        {
          "name": "stderr",
          "output_type": "stream",
          "text": [
            "C:\\Users\\Hesam\\AppData\\Local\\Packages\\PythonSoftwareFoundation.Python.3.10_qbz5n2kfra8p0\\LocalCache\\local-packages\\Python310\\site-packages\\nashpy\\algorithms\\support_enumeration.py:259: RuntimeWarning: \n",
            "An even number of (4) equilibria was returned. This\n",
            "indicates that the game is degenerate. Consider using another algorithm\n",
            "to investigate.\n",
            "                  \n",
            "  warnings.warn(warning, RuntimeWarning)\n"
          ]
        },
        {
          "data": {
            "text/plain": [
              "[(array([1., 0., 0.]), array([0., 0., 1.])),\n",
              " (array([0., 1., 0.]), array([1., 0., 0.])),\n",
              " (array([0., 0., 1.]), array([0., 1., 0.])),\n",
              " (array([0.66666667, 0.        , 0.33333333]),\n",
              "  array([0.        , 0.33333333, 0.66666667]))]"
            ]
          },
          "execution_count": 12,
          "metadata": {},
          "output_type": "execute_result"
        }
      ],
      "source": [
        "eqs = rps.support_enumeration()\n",
        "list(eqs)"
      ]
    },
    {
      "attachments": {},
      "cell_type": "markdown",
      "metadata": {
        "id": "EiFiLdNwjmE8"
      },
      "source": [
        "همانطور که میبینیم آخرین دو آرایه آخر ایندکس های غیر صحیح دارند که این دو عبارتند از نقاط تعادل میکس شده .\n",
        "که همان عبارت احتمالی برای انتخاب استراتژی مورد قبول یک فرد را میدهند."
      ]
    },
    {
      "attachments": {},
      "cell_type": "markdown",
      "metadata": {},
      "source": [
        "our explantion about three above methods is the the project report"
      ]
    },
    {
      "cell_type": "code",
      "execution_count": 9,
      "metadata": {},
      "outputs": [
        {
          "name": "stdout",
          "output_type": "stream",
          "text": [
            "[(array([0.33333333, 0.33333333, 0.33333333]), array([0.33333333, 0.33333333, 0.33333333]))]\n"
          ]
        }
      ],
      "source": [
        "A = np.array([[0, -1, 1], [1, 0, -1], [-1, 1, 0]])\n",
        "#since our game is symtric:\n",
        "rps = nash.Game(A)\n",
        "print(list(rps.support_enumeration()))"
      ]
    },
    {
      "attachments": {},
      "cell_type": "markdown",
      "metadata": {},
      "source": [
        "which is the same what we calculated before for mixed strategy\n"
      ]
    },
    {
      "cell_type": "code",
      "execution_count": 11,
      "metadata": {},
      "outputs": [
        {
          "name": "stdout",
          "output_type": "stream",
          "text": [
            "[(array([0.33333333, 0.33333333, 0.33333333]), array([0.33333333, 0.33333333, 0.33333333]))]\n"
          ]
        }
      ],
      "source": [
        "A = np.array([[0, -1, 1], [1, 0, -1], [-1, 1, 0]])\n",
        "#since our game is symtric:\n",
        "rps = nash.Game(A)\n",
        "print(list(rps.vertex_enumeration()))"
      ]
    },
    {
      "attachments": {},
      "cell_type": "markdown",
      "metadata": {},
      "source": [
        "which is the same what we calculated before for mixed strategy"
      ]
    },
    {
      "cell_type": "code",
      "execution_count": 17,
      "metadata": {},
      "outputs": [
        {
          "name": "stdout",
          "output_type": "stream",
          "text": [
            "[array([0.33333333, 0.33333333, 0.33333333]), array([0.33333333, 0.33333333, 0.33333333])]\n"
          ]
        }
      ],
      "source": [
        "A = np.array([[0, -1, 1], [1, 0, -1], [-1, 1, 0]])\n",
        "#since our game is symtric:\n",
        "rps = nash.Game(A)\n",
        "print(list(rps.lemke_howson(initial_dropped_label=0)))"
      ]
    },
    {
      "attachments": {},
      "cell_type": "markdown",
      "metadata": {},
      "source": [
        "which is the same what we calculated before for mixed strategy\n",
        "the initial_dropped_label is an integer between 0 and sum(A.shape) - 1"
      ]
    },
    {
      "attachments": {},
      "cell_type": "markdown",
      "metadata": {
        "id": "JwbSgP0awSBt"
      },
      "source": [
        "برای چک کردن این که یک استراتژی بهترین جواب است  از کد زیر استفاده میکنیم."
      ]
    },
    {
      "cell_type": "code",
      "execution_count": null,
      "metadata": {
        "colab": {
          "base_uri": "https://localhost:8080/"
        },
        "id": "uikKQJi3wcpe",
        "outputId": "3f6df806-e59b-437b-c82a-c185e577f992"
      },
      "outputs": [
        {
          "name": "stdout",
          "output_type": "stream",
          "text": [
            "(True, True)\n"
          ]
        }
      ],
      "source": [
        "sigma_r = np.array([0, 1, 0])\n",
        "sigma_c = np.array([1, 0, 0])\n",
        "print(rps.is_best_response(sigma_r, sigma_c))"
      ]
    },
    {
      "attachments": {},
      "cell_type": "markdown",
      "metadata": {
        "id": "PzU9sWV9Y8Jg"
      },
      "source": [
        "\n",
        "ابتدا درباره مساله \n",
        "\n",
        "matching pennies \n",
        "\n",
        "تحقیق کنید.\n",
        "اگر بخواهیم چند بار انتخاب استراتژی انجام بگیرد، کدی بنویسید که تکرار عملیات صورت بگیرد\n",
        "تعداد تکرار را برابر 2 رد نظر بگیرید. \n",
        "ماتریس بازی را نمایش دهید."
      ]
    },
    {
      "attachments": {},
      "cell_type": "markdown",
      "metadata": {},
      "source": [
        "### complete code:"
      ]
    },
    {
      "cell_type": "code",
      "execution_count": 3,
      "metadata": {
        "id": "tKT_O7_GxCE1"
      },
      "outputs": [
        {
          "name": "stdout",
          "output_type": "stream",
          "text": [
            "Zero sum game with payoff matrices:\n",
            "\n",
            "Row player:\n",
            "[[ 2.  2.  2. ...  0. -2. -2.]\n",
            " [ 2.  2.  2. ...  0. -2. -2.]\n",
            " [ 2.  2.  2. ...  0. -2. -2.]\n",
            " ...\n",
            " [ 0.  0.  0. ...  2.  0.  2.]\n",
            " [-2. -2. -2. ...  0.  2.  0.]\n",
            " [-2. -2. -2. ...  2.  0.  2.]]\n",
            "\n",
            "Column player:\n",
            "[[-2. -2. -2. ...  0.  2.  2.]\n",
            " [-2. -2. -2. ...  0.  2.  2.]\n",
            " [-2. -2. -2. ...  0.  2.  2.]\n",
            " ...\n",
            " [ 0.  0.  0. ... -2.  0. -2.]\n",
            " [ 2.  2.  2. ...  0. -2.  0.]\n",
            " [ 2.  2.  2. ... -2.  0. -2.]]\n"
          ]
        },
        {
          "data": {
            "text/plain": [
              "(32, 32)"
            ]
          },
          "execution_count": 3,
          "metadata": {},
          "output_type": "execute_result"
        }
      ],
      "source": [
        "import nashpy.repeated_games \n",
        "A = np.array([[1, -1], [-1, 1]])\n",
        "matching_pennies = nash.Game(A)\n",
        "repeated = nashpy.repeated_games.obtain_repeated_game(game=matching_pennies, repetitions=2)\n",
        "print(repeated)\n",
        "repeated.payoff_matrices[0].shape"
      ]
    },
    {
      "cell_type": "code",
      "execution_count": null,
      "metadata": {},
      "outputs": [],
      "source": []
    },
    {
      "attachments": {},
      "cell_type": "markdown",
      "metadata": {
        "id": "wlB-xIsTZ41h"
      },
      "source": [
        "حال اگر بخواهیم تعداد تکرار ها را بیشتر کنیم چه؟\n",
        "برای تکرار های بیشتر این روش محاسبات زیادی میخواهد بجایش از روش های لرنینگ استفاده میکنیم.\n"
      ]
    },
    {
      "attachments": {},
      "cell_type": "markdown",
      "metadata": {
        "id": "qlJvhpB7dOj3"
      },
      "source": [
        "در زیر الگوریتم فیکتس\n",
        "\n",
        "game.fictitious_play\n",
        "\n",
        "یکی از روش های لرن کردن میباشد.\n",
        "البته همیشه این الگوریتم همگرا نمیشود "
      ]
    },
    {
      "cell_type": "code",
      "execution_count": 4,
      "metadata": {
        "colab": {
          "base_uri": "https://localhost:8080/"
        },
        "id": "U-ZLtkrPdYYS",
        "outputId": "9542c965-e211-4d0a-bbaf-c0345c01523a"
      },
      "outputs": [
        {
          "data": {
            "text/plain": [
              "[array([5464., 1436., 3100.]), array([2111., 4550., 3339.])]"
            ]
          },
          "execution_count": 4,
          "metadata": {},
          "output_type": "execute_result"
        }
      ],
      "source": [
        "A = np.array([[0, 1, 0], [0, 0, 1], [1, 0, 0]])\n",
        "B = np.array([[0, 0, 1], [1, 0, 0], [0, 1, 0]])\n",
        "game = nash.Game(A, B)\n",
        "iterations = 10000\n",
        "np.random.seed(0)\n",
        "play_counts = tuple(game.fictitious_play(iterations=iterations))\n",
        "play_counts[-1]"
      ]
    },
    {
      "attachments": {},
      "cell_type": "markdown",
      "metadata": {
        "id": "HQYqVk6qOiyP"
      },
      "source": [
        "در مساله فوق اعداد آرایه\n",
        "\n",
        "play_counts \n",
        "\n",
        "باید بر تعداد \n",
        "\n",
        "iteration \n",
        "\n",
        "تقسیم کنید تا احتمال هر استراتژی بدست بیاید و خروجی را نشان دهید.\n",
        "و در نهایت احتمال هر استراتژی را برای بازیکن اول\n",
        "row player\n",
        "را نسبت به  \n",
        "\n",
        ".iterations\n",
        "\n",
        "پلاتد کنید\n",
        "آیا الگوریتمها همگرا میشوند؟ توضیح دهید...\n",
        " \n",
        " \n",
        " \n",
        "شما صرفا باید به روش گفته شده ptobabilities \n",
        "را بصورت مناسب تعریف کنید ..."
      ]
    },
    {
      "attachments": {},
      "cell_type": "markdown",
      "metadata": {},
      "source": [
        "### complete code:"
      ]
    },
    {
      "cell_type": "code",
      "execution_count": 5,
      "metadata": {
        "colab": {
          "base_uri": "https://localhost:8080/",
          "height": 527
        },
        "id": "OJ2zFz5jdgdi",
        "outputId": "3375c6ab-d9f4-4748-d5b2-a3ce5e646a2c"
      },
      "outputs": [
        {
          "name": "stderr",
          "output_type": "stream",
          "text": [
            "C:\\Users\\Hesam\\AppData\\Local\\Temp\\ipykernel_10312\\3346560346.py:4: RuntimeWarning: invalid value encountered in divide\n",
            "  probabilities = [row_play_counts / np.sum(row_play_counts) for row_play_counts, col_play_counts in play_counts]\n"
          ]
        },
        {
          "data": {
            "text/plain": [
              "<matplotlib.legend.Legend at 0x1a277c9ec80>"
            ]
          },
          "execution_count": 5,
          "metadata": {},
          "output_type": "execute_result"
        },
        {
          "data": {
            "image/png": "[encoded data removed]",
            "text/plain": [
              "<Figure size 640x480 with 1 Axes>"
            ]
          },
          "metadata": {},
          "output_type": "display_data"
        }
      ],
      "source": [
        "import matplotlib.pyplot as plt\n",
        "plt.figure() \n",
        "\n",
        "probabilities = [row_play_counts / np.sum(row_play_counts) for row_play_counts, col_play_counts in play_counts]\n",
        "\n",
        "for number, strategy in enumerate(zip(*probabilities)):\n",
        "    plt.plot(strategy, label=f\"$s_{number}$\")  \n",
        "\n",
        "    \n",
        "    \n",
        "plt.xlabel(\"Iteration\")  \n",
        "plt.ylabel(\"Probability\")  \n",
        "plt.title(\"Actions taken by row player\")  \n",
        "plt.legend() "
      ]
    },
    {
      "attachments": {},
      "cell_type": "markdown",
      "metadata": {},
      "source": [
        "We can visualise the lack of convergence"
      ]
    },
    {
      "attachments": {},
      "cell_type": "markdown",
      "metadata": {
        "id": "rjibLE4zdww4"
      },
      "source": [
        "این بار برای ماتریس های\n",
        "\n",
        "A , B\n",
        "\n",
        "همان الگوریتم قبلی را تکرار کنید و نشان دهید که این بار برای بازیکن دوم الگوریتم ها همگرا میشوند"
      ]
    },
    {
      "cell_type": "code",
      "execution_count": 37,
      "metadata": {
        "id": "UKSyvVX8d936"
      },
      "outputs": [
        {
          "data": {
            "text/plain": [
              "[array([3290., 3320., 3390.]), array([3356., 3361., 3283.])]"
            ]
          },
          "execution_count": 37,
          "metadata": {},
          "output_type": "execute_result"
        }
      ],
      "source": [
        "A = np.array([[1 / 2, 1, 0], [0, 1 / 2, 1], [1, 0, 1 / 2]])\n",
        "B = np.array([[1 / 2, 0, 1], [1, 1 / 2, 0], [0, 1, 1 / 2]])\n",
        "game = nash.Game(A, B)\n",
        "np.random.seed(0)\n",
        "play_counts = tuple(game.fictitious_play(iterations=iterations))\n",
        "play_counts[-1]"
      ]
    },
    {
      "cell_type": "code",
      "execution_count": 38,
      "metadata": {},
      "outputs": [
        {
          "name": "stderr",
          "output_type": "stream",
          "text": [
            "C:\\Users\\Hesam\\AppData\\Local\\Temp\\ipykernel_19232\\2852150636.py:3: RuntimeWarning: invalid value encountered in divide\n",
            "  probabilities = [row_play_counts / np.sum(row_play_counts) for row_play_counts, col_play_counts in play_counts]\n"
          ]
        },
        {
          "data": {
            "text/plain": [
              "<matplotlib.legend.Legend at 0x1d284103bb0>"
            ]
          },
          "execution_count": 38,
          "metadata": {},
          "output_type": "execute_result"
        },
        {
          "data": {
            "image/png": "[encoded data removed]",
            "text/plain": [
              "<Figure size 640x480 with 1 Axes>"
            ]
          },
          "metadata": {},
          "output_type": "display_data"
        }
      ],
      "source": [
        "import matplotlib.pyplot as plt\n",
        "plt.figure() \n",
        "probabilities = [row_play_counts / np.sum(row_play_counts) for row_play_counts, col_play_counts in play_counts]\n",
        "for number, strategy in enumerate(zip(*probabilities)):\n",
        "    plt.plot(strategy, label=f\"$s_{number}$\")  \n",
        "plt.xlabel(\"Iteration\")  \n",
        "plt.ylabel(\"Probability\")  \n",
        "plt.title(\"Actions taken by row player\")  \n",
        "plt.legend()  "
      ]
    },
    {
      "attachments": {},
      "cell_type": "markdown",
      "metadata": {},
      "source": [
        "we see a clear convergence now "
      ]
    },
    {
      "attachments": {},
      "cell_type": "markdown",
      "metadata": {
        "id": "fNZ6IsGRN60e"
      },
      "source": [
        "حال میخواهیم ببینیم یک بازیکن در گذر زمان چه احتمالی از استراتژی ها را بازی میکند.\n",
        " با استفاده از الگوریتم \n",
        "\n",
        "replicator dynamics\n",
        "\n",
        "برای ماتریس های  هزینه َA,\n",
        "این کار را انجام دهید.\n",
        "( البته پیش از این کار همانند قسمت قبل \n",
        "احتمال هر استراتژی را برای بازیکن اول و دوم پلات بگیرید)"
      ]
    },
    {
      "cell_type": "code",
      "execution_count": 6,
      "metadata": {
        "id": "ZTlgu9jXOJFe"
      },
      "outputs": [
        {
          "name": "stderr",
          "output_type": "stream",
          "text": [
            "C:\\Users\\Hesam\\AppData\\Local\\Temp\\ipykernel_10312\\2991151218.py:10: RuntimeWarning: invalid value encountered in divide\n",
            "  probabilities = [row_play_counts / np.sum(row_play_counts) for row_play_counts, col_play_counts in play_counts]\n"
          ]
        },
        {
          "data": {
            "text/plain": [
              "<matplotlib.legend.Legend at 0x1a2784927a0>"
            ]
          },
          "execution_count": 6,
          "metadata": {},
          "output_type": "execute_result"
        },
        {
          "data": {
            "image/png": "[encoded data removed]",
            "text/plain": [
              "<Figure size 640x480 with 1 Axes>"
            ]
          },
          "metadata": {},
          "output_type": "display_data"
        }
      ],
      "source": [
        "import nashpy as nash\n",
        "import numpy as np\n",
        "A = np.array([[3, 2], [4, 2]])\n",
        "B = np.array([[1, 3], [2, 4]])\n",
        "game = nash.Game(A,B)\n",
        "np.random.seed(0)\n",
        "play_counts = tuple(game.fictitious_play(iterations=iterations))\n",
        "play_counts[-1]\n",
        "plt.figure() \n",
        "probabilities = [row_play_counts / np.sum(row_play_counts) for row_play_counts, col_play_counts in play_counts]\n",
        "for number, strategy in enumerate(zip(*probabilities)):\n",
        "    plt.plot(strategy, label=f\"$s_{number}$\")  \n",
        "plt.xlabel(\"Iteration\")  \n",
        "plt.ylabel(\"Probability\")  \n",
        "plt.title(\"Actions taken by row player\")  \n",
        "plt.legend()  "
      ]
    },
    {
      "attachments": {},
      "cell_type": "markdown",
      "metadata": {},
      "source": [
        "since the game is symetric we can say that the other player haw the same plot"
      ]
    },
    {
      "attachments": {},
      "cell_type": "markdown",
      "metadata": {
        "id": "nX-soVMtOukH"
      },
      "source": [
        "The replicator_dynamics method returns the strategies of the row player over time:"
      ]
    },
    {
      "cell_type": "code",
      "execution_count": 42,
      "metadata": {
        "id": "qWj-0TllPD6F"
      },
      "outputs": [
        {
          "data": {
            "text/plain": [
              "array([[0.5       , 0.5       ],\n",
              "       [0.49875032, 0.50124968],\n",
              "       [0.49750377, 0.50249623],\n",
              "       ...,\n",
              "       [0.10199196, 0.89800804],\n",
              "       [0.10189853, 0.89810147],\n",
              "       [0.10180527, 0.89819473]])"
            ]
          },
          "execution_count": 42,
          "metadata": {},
          "output_type": "execute_result"
        }
      ],
      "source": [
        "game.replicator_dynamics()"
      ]
    },
    {
      "attachments": {},
      "cell_type": "markdown",
      "metadata": {
        "id": "3QqvMEaeYLNK"
      },
      "source": [
        "It is also possible to pass a y0 variable in order to assign a starting strategy. Otherwise the probability is divided equally amongst all possible actions. Passing a timepoints variable gives the algorithm a sequence of timepoints over which to calculate the strategies:"
      ]
    },
    {
      "cell_type": "code",
      "execution_count": 43,
      "metadata": {
        "id": "Z8nCRLUTYLNL"
      },
      "outputs": [
        {
          "data": {
            "text/plain": [
              "array([[0.9       , 0.1       ],\n",
              "       [0.89918663, 0.10081337],\n",
              "       [0.89836814, 0.10163186],\n",
              "       ...,\n",
              "       [0.14109126, 0.85890874],\n",
              "       [0.1409203 , 0.8590797 ],\n",
              "       [0.14074972, 0.85925028]])"
            ]
          },
          "execution_count": 43,
          "metadata": {},
          "output_type": "execute_result"
        }
      ],
      "source": [
        "y0 = np.array([0.9, 0.1])\n",
        "timepoints = np.linspace(0, 10, 1000)\n",
        "game.replicator_dynamics(y0=y0, timepoints=timepoints)"
      ]
    }
  ],
  "metadata": {
    "colab": {
      "provenance": []
    },
    "kernelspec": {
      "display_name": "Python 3 (ipykernel)",
      "language": "python",
      "name": "python3"
    },
    "language_info": {
      "codemirror_mode": {
        "name": "ipython",
        "version": 3
      },
      "file_extension": ".py",
      "mimetype": "text/x-python",
      "name": "python",
      "nbconvert_exporter": "python",
      "pygments_lexer": "ipython3",
      "version": "3.10.11"
    }
  },
  "nbformat": 4,
  "nbformat_minor": 0
}
